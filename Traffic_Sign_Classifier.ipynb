{
 "cells": [
  {
   "cell_type": "markdown",
   "metadata": {
    "deletable": true,
    "editable": true
   },
   "source": [
    "# Self-Driving Car Engineer Nanodegree\n",
    "\n",
    "## Deep Learning\n",
    "\n",
    "## Project: Build a Traffic Sign Recognition Classifier\n",
    "\n",
    "In this notebook, a template is provided for you to implement your functionality in stages, which is required to successfully complete this project. If additional code is required that cannot be included in the notebook, be sure that the Python code is successfully imported and included in your submission if necessary. \n",
    "\n",
    "> **Note**: Once you have completed all of the code implementations, you need to finalize your work by exporting the iPython Notebook as an HTML document. Before exporting the notebook to html, all of the code cells need to have been run so that reviewers can see the final implementation and output. You can then export the notebook by using the menu above and navigating to  \\n\",\n",
    "    \"**File -> Download as -> HTML (.html)**. Include the finished document along with this notebook as your submission. \n",
    "\n",
    "In addition to implementing code, there is a writeup to complete. The writeup should be completed in a separate file, which can be either a markdown file or a pdf document. There is a [write up template](https://github.com/udacity/CarND-Traffic-Sign-Classifier-Project/blob/master/writeup_template.md) that can be used to guide the writing process. Completing the code template and writeup template will cover all of the [rubric points](https://review.udacity.com/#!/rubrics/481/view) for this project.\n",
    "\n",
    "The [rubric](https://review.udacity.com/#!/rubrics/481/view) contains \"Stand Out Suggestions\" for enhancing the project beyond the minimum requirements. The stand out suggestions are optional. If you decide to pursue the \"stand out suggestions\", you can include the code in this Ipython notebook and also discuss the results in the writeup file.\n",
    "\n",
    "\n",
    ">**Note:** Code and Markdown cells can be executed using the **Shift + Enter** keyboard shortcut. In addition, Markdown cells can be edited by typically double-clicking the cell to enter edit mode."
   ]
  },
  {
   "cell_type": "markdown",
   "metadata": {
    "deletable": true,
    "editable": true
   },
   "source": [
    "---\n",
    "## Step 0: Load The Data"
   ]
  },
  {
   "cell_type": "code",
   "execution_count": 29,
   "metadata": {
    "collapsed": false,
    "deletable": true,
    "editable": true
   },
   "outputs": [
    {
     "name": "stdout",
     "output_type": "stream",
     "text": [
      "Loading done...\n"
     ]
    }
   ],
   "source": [
    "# Load pickled data\n",
    "import pickle\n",
    "\n",
    "# TODO: Fill this in based on where you saved the training and testing data\n",
    "\n",
    "training_file = 'train.p'\n",
    "validation_file= 'valid.p'\n",
    "testing_file = 'test.p'\n",
    "\n",
    "with open(training_file, mode='rb') as f:\n",
    "    train = pickle.load(f)\n",
    "with open(validation_file, mode='rb') as f:\n",
    "    valid = pickle.load(f)\n",
    "with open(testing_file, mode='rb') as f:\n",
    "    test = pickle.load(f)\n",
    "    \n",
    "X_train, y_train = train['features'], train['labels']\n",
    "X_valid, y_valid = valid['features'], valid['labels']\n",
    "X_test, y_test = test['features'], test['labels']\n",
    "\n",
    "print(\"Loading done...\")"
   ]
  },
  {
   "cell_type": "markdown",
   "metadata": {
    "deletable": true,
    "editable": true
   },
   "source": [
    "---\n",
    "\n",
    "## Step 1: Dataset Summary & Exploration\n",
    "\n",
    "The pickled data is a dictionary with 4 key/value pairs:\n",
    "\n",
    "- `'features'` is a 4D array containing raw pixel data of the traffic sign images, (num examples, width, height, channels).\n",
    "- `'labels'` is a 1D array containing the label/class id of the traffic sign. The file `signnames.csv` contains id -> name mappings for each id.\n",
    "- `'sizes'` is a list containing tuples, (width, height) representing the the original width and height the image.\n",
    "- `'coords'` is a list containing tuples, (x1, y1, x2, y2) representing coordinates of a bounding box around the sign in the image. **THESE COORDINATES ASSUME THE ORIGINAL IMAGE. THE PICKLED DATA CONTAINS RESIZED VERSIONS (32 by 32) OF THESE IMAGES**\n",
    "\n",
    "Complete the basic data summary below. Use python, numpy and/or pandas methods to calculate the data summary rather than hard coding the results. For example, the [pandas shape method](http://pandas.pydata.org/pandas-docs/stable/generated/pandas.DataFrame.shape.html) might be useful for calculating some of the summary results. "
   ]
  },
  {
   "cell_type": "markdown",
   "metadata": {
    "deletable": true,
    "editable": true
   },
   "source": [
    "### Provide a Basic Summary of the Data Set Using Python, Numpy and/or Pandas"
   ]
  },
  {
   "cell_type": "code",
   "execution_count": 30,
   "metadata": {
    "collapsed": false,
    "deletable": true,
    "editable": true
   },
   "outputs": [
    {
     "name": "stdout",
     "output_type": "stream",
     "text": [
      "Number of training examples = 34799\n",
      "Number of validation examples = 4410\n",
      "Number of testing examples = 12630\n",
      "Image data shape = (32, 32)\n",
      "Number of classes = 43\n"
     ]
    }
   ],
   "source": [
    "### Replace each question mark with the appropriate value. \n",
    "### Use python, pandas or numpy methods rather than hard coding the results\n",
    "\n",
    "# Number of training examples\n",
    "n_train = len(X_train)\n",
    "\n",
    "# Number of testing examples.\n",
    "n_test = len(X_test)\n",
    "\n",
    "# Number of vaildation examples.\n",
    "n_valid = len(X_valid)\n",
    "\n",
    "# What's the shape of an traffic sign image?\n",
    "image_shape = X_train.shape[1:3]\n",
    "\n",
    "# How many unique classes/labels there are in the dataset.\n",
    "n_classes = y_train.max()+1\n",
    "\n",
    "print(\"Number of training examples =\", n_train)\n",
    "print(\"Number of validation examples =\", n_valid)\n",
    "print(\"Number of testing examples =\", n_test)\n",
    "print(\"Image data shape =\", image_shape)\n",
    "print(\"Number of classes =\", n_classes)"
   ]
  },
  {
   "cell_type": "markdown",
   "metadata": {
    "deletable": true,
    "editable": true
   },
   "source": [
    "### Include an exploratory visualization of the dataset"
   ]
  },
  {
   "cell_type": "markdown",
   "metadata": {
    "deletable": true,
    "editable": true
   },
   "source": [
    "Visualize the German Traffic Signs Dataset using the pickled file(s). This is open ended, suggestions include: plotting traffic sign images, plotting the count of each sign, etc.\n",
    "\n",
    "The [Matplotlib](http://matplotlib.org/) [examples](http://matplotlib.org/examples/index.html) and [gallery](http://matplotlib.org/gallery.html) pages are a great resource for doing visualizations in Python.\n",
    "\n",
    "**NOTE:** It's recommended you start with something simple first. If you wish to do more, come back to it after you've completed the rest of the sections."
   ]
  },
  {
   "cell_type": "code",
   "execution_count": 31,
   "metadata": {
    "collapsed": false,
    "deletable": true,
    "editable": true
   },
   "outputs": [
    {
     "name": "stdout",
     "output_type": "stream",
     "text": [
      "'Speed limit (50km/h)', Occurrence in the data set:2010\n"
     ]
    },
    {
     "data": {
      "image/png": "[encoded data removed]",
      "text/plain": [
       "<matplotlib.figure.Figure at 0x7f9a17d54a90>"
      ]
     },
     "metadata": {},
     "output_type": "display_data"
    },
    {
     "data": {
      "image/png": "[encoded data removed]",
      "text/plain": [
       "<matplotlib.figure.Figure at 0x7f9a17e6d4e0>"
      ]
     },
     "metadata": {},
     "output_type": "display_data"
    }
   ],
   "source": [
    "import random\n",
    "import matplotlib.pyplot as plt\n",
    "import numpy as np\n",
    "# Visualizations will be shown in the notebook.\n",
    "%matplotlib inline\n",
    "\n",
    "index = random.randint(0, n_train)\n",
    "image = X_train[index]\n",
    "\n",
    "sign_explanation =['Speed limit (20km/h)','Speed limit (30km/h)','Speed limit (50km/h)','Speed limit (60km/h)','Speed limit (70km/h)',\n",
    "'Speed limit (80km/h)','End of speed limit (80km/h)','Speed limit (100km/h)','Speed limit (120km/h)','No passing',\n",
    "'No passing for vehicles over 3.5 metric tons','Right-of-way at the next intersection','Priority road','Yield',\n",
    "'Stop','No vehicles','Vehicles over 3.5 metric tons prohibited','No entry','General caution','Dangerous curve to the left',\n",
    "'Dangerous curve to the right','Double curve','Bumpy road','Slippery road','Road narrows on the right',\n",
    "'Road work','Traffic signals','Pedestrians', 'Children crossing','Bicycles crossing','Beware of ice/snow',\n",
    "'Wild animals crossing', 'End of all speed and passing limits','Turn right ahead','Turn left ahead','Ahead only',\n",
    "'Go straight or right','Go straight or left','Keep right','Keep left','Roundabout mandatory',\n",
    "'End of no passing','End of no passing by vehicles over 3.5 metric tons']\n",
    "\n",
    "plt.figure(figsize=(1,1))\n",
    "plt.imshow(image)\n",
    "print(\"'\" + sign_explanation[y_train[index]] + \"', Occurrence in the data set:\" + str(np.count_nonzero(y_train == y_train[index] )))\n",
    "plt.figure()\n",
    "plt.hist(y_train,n_classes, alpha=0.75)\n",
    "plt.xlabel('Training Classes')\n",
    "plt.ylabel('Number of Training Samples')\n",
    "plt.grid(True)\n",
    "plt.show()\n"
   ]
  },
  {
   "cell_type": "markdown",
   "metadata": {
    "deletable": true,
    "editable": true
   },
   "source": [
    "----\n",
    "\n",
    "## Step 2: Design and Test a Model Architecture\n",
    "\n",
    "Design and implement a deep learning model that learns to recognize traffic signs. Train and test your model on the [German Traffic Sign Dataset](http://benchmark.ini.rub.de/?section=gtsrb&subsection=dataset).\n",
    "\n",
    "There are various aspects to consider when thinking about this problem:\n",
    "\n",
    "- Neural network architecture\n",
    "- Play around preprocessing techniques (normalization, rgb to grayscale, etc)\n",
    "- Number of examples per label (some have more than others).\n",
    "- Generate fake data.\n",
    "\n",
    "Here is an example of a [published baseline model on this problem](http://yann.lecun.com/exdb/publis/pdf/sermanet-ijcnn-11.pdf). It's not required to be familiar with the approach used in the paper but, it's good practice to try to read papers like these.\n",
    "\n",
    "**NOTE:** The LeNet-5 implementation shown in the [classroom](https://classroom.udacity.com/nanodegrees/nd013/parts/fbf77062-5703-404e-b60c-95b78b2f3f9e/modules/6df7ae49-c61c-4bb2-a23e-6527e69209ec/lessons/601ae704-1035-4287-8b11-e2c2716217ad/concepts/d4aca031-508f-4e0b-b493-e7b706120f81) at the end of the CNN lesson is a solid starting point. You'll have to change the number of classes and possibly the preprocessing, but aside from that it's plug and play!"
   ]
  },
  {
   "cell_type": "markdown",
   "metadata": {
    "deletable": true,
    "editable": true
   },
   "source": [
    "### Pre-process the Data Set (normalization, grayscale, etc.)"
   ]
  },
  {
   "cell_type": "markdown",
   "metadata": {
    "deletable": true,
    "editable": true
   },
   "source": [
    "Use the code cell (or multiple code cells, if necessary) to implement the first step of your project."
   ]
  },
  {
   "cell_type": "code",
   "execution_count": 32,
   "metadata": {
    "collapsed": false,
    "deletable": true,
    "editable": true
   },
   "outputs": [],
   "source": [
    "### Preprocess the data here. Preprocessing steps could include normalization, converting to grayscale, etc.\n",
    "### Feel free to use as many code cells as needed.\n",
    "\n",
    "import cv2\n",
    "\n",
    "shape=(1,32,32,1)\n",
    "X_train_grayscale = np.empty([len(X_train),32,32,1])\n",
    "X_test_grayscale = np.empty([len(X_test),32,32,1])\n",
    "X_valid_grayscale = np.empty([len(X_valid),32,32,1])\n",
    "\n",
    "# Converting Images to Grayscale and normalizing to [-1,1] via OpenCV\n",
    "for i in range(0, len(X_train)):\n",
    "    grayscale = cv2.cvtColor(X_train[i], cv2.COLOR_RGB2GRAY)\n",
    "    X_train_grayscale[i] = np.reshape(cv2.normalize(grayscale,grayscale,alpha = -1, beta = 1, norm_type=cv2.NORM_MINMAX, dtype=cv2.CV_32F), shape)\n",
    "    \n",
    "for i in range(0, len(X_test)):\n",
    "    grayscale = cv2.cvtColor(X_test[i], cv2.COLOR_RGB2GRAY)\n",
    "    X_test_grayscale[i] = np.reshape(cv2.normalize(grayscale,grayscale,alpha = -1, beta = 1, norm_type=cv2.NORM_MINMAX, dtype=cv2.CV_32F), shape)\n",
    "\n",
    "for i in range(0, len(X_valid)):\n",
    "    grayscale = cv2.cvtColor(X_valid[i], cv2.COLOR_RGB2GRAY)\n",
    "    X_valid_grayscale[i] = np.reshape(cv2.normalize(grayscale,grayscale,alpha = -1, beta = 1, norm_type=cv2.NORM_MINMAX, dtype=cv2.CV_32F), shape)\n",
    "      \n",
    "X_train = X_train_grayscale\n",
    "X_test = X_test_grayscale\n",
    "X_valid = X_valid_grayscale\n",
    "\n"
   ]
  },
  {
   "cell_type": "markdown",
   "metadata": {
    "deletable": true,
    "editable": true
   },
   "source": [
    "### Model Architecture"
   ]
  },
  {
   "cell_type": "code",
   "execution_count": 33,
   "metadata": {
    "collapsed": false,
    "deletable": true,
    "editable": true
   },
   "outputs": [],
   "source": [
    "import tensorflow as tf\n",
    "\n",
    "EPOCHS = 100\n",
    "BATCH_SIZE =128\n",
    "mu = 0\n",
    "sigma = 0.01\n",
    "\n",
    "  # Input\n",
    "x = tf.placeholder(tf.float32, (None, 32, 32, 1), name='x')\n",
    "y = tf.placeholder(tf.int32, (None), name='y')\n",
    "one_hot_y = tf.one_hot(y, 43)\n",
    "\n",
    "  # Variables.\n",
    "wc1 = tf.Variable(tf.truncated_normal(shape=(5, 5, 1, 16), mean = mu, stddev = sigma), name=\"wc1\")\n",
    "bc1 = tf.Variable(tf.zeros(16), name=\"bc1\")  \n",
    "wc2 = tf.Variable(tf.truncated_normal(shape=(5, 5, 16, 32), mean = mu, stddev = sigma), name=\"wc2\") \n",
    "bc2 = tf.Variable(tf.zeros(32), name=\"bc2\")  \n",
    "fc1_W = tf.Variable(tf.truncated_normal(shape=(800,800), mean = mu, stddev = sigma), name=\"fc1_W\")\n",
    "fc1_b = tf.Variable(tf.zeros(800), name=\"fc1_b\")\n",
    "fc2_W = tf.Variable(tf.truncated_normal(shape=(800, 400), mean = mu, stddev = sigma), name=\"fc2_W\")\n",
    "fc2_b = tf.Variable(tf.zeros(400), name=\"fc2_b\")\n",
    "fc3_W = tf.Variable(tf.truncated_normal(shape=(400, 43), mean = mu, stddev = sigma), name=\"fc3_W\")\n",
    "fc3_b = tf.Variable(tf.zeros(43), name=\"fc3_b\")\n",
    "    \n",
    "\n",
    "  \n",
    "saver = tf.train.Saver()\n",
    "\n",
    "\n",
    "def LeNet(x):    \n",
    "    \n",
    "    # Layer 1: Convolutional. Input = 32x32x1. Output = 28x28x6.\n",
    "    # Determination of the filter shape:\n",
    "    # (height, width, input_depth, output_depth)\n",
    "    # out_height = ceil(float(in_height - filter_height + 1) / float(strides[1]))\n",
    "    # out_width  = ceil(float(in_width - filter_width + 1) / float(strides[2]))\n",
    "    conv1 = tf.nn.conv2d(x, wc1, strides = [1, 1, 1, 1], padding='VALID')\n",
    "    conv1 = tf.nn.bias_add(conv1, bc1)\n",
    "    \n",
    "    # Activation.\n",
    "    conv1 = tf.nn.relu(conv1)\n",
    "\n",
    "    # Pooling. Input = 28x28x6. Output = 14x14x16.\n",
    "    conv1 = tf.nn.max_pool(conv1, ksize=[1, 2, 2, 1], strides=[1,2,2,1], padding='VALID')\n",
    "    \n",
    "    # Layer 2: Convolutional. Output = 10x10x32.\n",
    "    conv2 = tf.nn.conv2d(conv1, wc2, strides = [1, 1, 1, 1], padding='VALID') \n",
    "    conv2 = tf.nn.bias_add(conv2, bc2)  \n",
    "    \n",
    "    # Activation.\n",
    "    conv2 = tf.nn.relu(conv2)  \n",
    "    \n",
    "    conv2 = tf.nn.local_response_normalization(conv2)\n",
    "    \n",
    "    # Pooling. Input = 10x10x32. Output = 5x5x32.\n",
    "    conv2 = tf.nn.max_pool(conv2, ksize=[1, 2, 2, 1], strides=[1,2,2,1], padding='VALID')\n",
    "    \n",
    "    # Flatten. Input = 5x5x32. Output = 800\n",
    "    fc0 = tf.contrib.layers.flatten(conv2)\n",
    "        \n",
    "    # Layer 3: Fully Connected. Input = 800. Output = 800.\n",
    "    fc1   = tf.matmul(fc0, fc1_W) + fc1_b\n",
    "    \n",
    "    # Dropout Layer\n",
    "    fc1 = tf.nn.dropout(fc1, keep_prob=0.5)\n",
    "    \n",
    "    # Activation.\n",
    "    fc1 = tf.nn.relu(fc1)    \n",
    "\n",
    "    # Layer 4: Fully Connected. Input = 800. Output = 800.\n",
    "    fc2   = tf.matmul(fc1, fc2_W) + fc2_b\n",
    "    \n",
    "    fc2 = tf.nn.dropout(fc2, keep_prob=0.5)\n",
    "    \n",
    "    # Activation.\n",
    "\n",
    "    fc2 = tf.nn.relu(fc2)  \n",
    "    \n",
    "    #  Layer 5: Fully Connected. Input = 800. Output = 43.\n",
    "    fc3   = tf.matmul(fc2, fc3_W) + fc3_b\n",
    "    \n",
    "    #fc3 = tf.nn.dropout(fc3, keep_prob=0.5)\n",
    "    \n",
    "       \n",
    "    return fc3\n",
    "\n",
    "### Train, Validate and Test the Model"
   ]
  },
  {
   "cell_type": "markdown",
   "metadata": {
    "deletable": true,
    "editable": true
   },
   "source": [
    "A validation set can be used to assess how well the model is performing. A low accuracy on the training and validation\n",
    "sets imply underfitting. A high accuracy on the test set but low accuracy on the validation set implies overfitting."
   ]
  },
  {
   "cell_type": "code",
   "execution_count": 34,
   "metadata": {
    "collapsed": false,
    "deletable": true,
    "editable": true
   },
   "outputs": [],
   "source": [
    "from sklearn.utils import shuffle\n",
    "# Training Pipeline \n",
    "rate = 0.001\n",
    "\n",
    "logits = LeNet(x)\n",
    "cross_entropy = tf.nn.softmax_cross_entropy_with_logits(logits=logits, labels=one_hot_y)\n",
    "loss_operation = tf.reduce_mean(cross_entropy)\n",
    "optimizer = tf.train.AdamOptimizer(learning_rate = rate)\n",
    "training_operation = optimizer.minimize(loss_operation)\n"
   ]
  },
  {
   "cell_type": "code",
   "execution_count": 35,
   "metadata": {
    "collapsed": false,
    "deletable": true,
    "editable": true
   },
   "outputs": [],
   "source": [
    "# Model Evaluation\n",
    "correct_prediction = tf.equal(tf.argmax(logits, 1), tf.argmax(one_hot_y, 1))\n",
    "accuracy_operation = tf.reduce_mean(tf.cast(correct_prediction, tf.float32))\n",
    "saver = tf.train.Saver()\n",
    "\n",
    "def evaluate(X_data, y_data):\n",
    "    num_examples = len(X_data)\n",
    "    total_accuracy = 0\n",
    "    sess = tf.get_default_session()\n",
    "    for offset in range(0, num_examples, BATCH_SIZE):\n",
    "        batch_x, batch_y = X_data[offset:offset+BATCH_SIZE], y_data[offset:offset+BATCH_SIZE]\n",
    "        accuracy = sess.run(accuracy_operation, feed_dict={x: batch_x, y: batch_y})\n",
    "        total_accuracy += (accuracy * len(batch_x))\n",
    "    return total_accuracy / num_examples"
   ]
  },
  {
   "cell_type": "code",
   "execution_count": 36,
   "metadata": {
    "collapsed": false,
    "deletable": true,
    "editable": true
   },
   "outputs": [
    {
     "name": "stdout",
     "output_type": "stream",
     "text": [
      "Training...\n",
      "\n",
      "EPOCH 1 ...\n",
      "Training Accuracy = 0.597\n",
      "Validation Accuracy = 0.548\n",
      "\n",
      "EPOCH 2 ...\n",
      "Training Accuracy = 0.895\n",
      "Validation Accuracy = 0.837\n",
      "\n",
      "EPOCH 3 ...\n",
      "Training Accuracy = 0.951\n",
      "Validation Accuracy = 0.896\n",
      "\n",
      "EPOCH 4 ...\n",
      "Training Accuracy = 0.963\n",
      "Validation Accuracy = 0.913\n",
      "\n",
      "EPOCH 5 ...\n",
      "Training Accuracy = 0.978\n",
      "Validation Accuracy = 0.918\n",
      "\n",
      "EPOCH 6 ...\n",
      "Training Accuracy = 0.976\n",
      "Validation Accuracy = 0.920\n",
      "\n",
      "EPOCH 7 ...\n",
      "Training Accuracy = 0.984\n",
      "Validation Accuracy = 0.925\n",
      "\n",
      "EPOCH 8 ...\n",
      "Training Accuracy = 0.985\n",
      "Validation Accuracy = 0.928\n",
      "\n",
      "EPOCH 9 ...\n",
      "Training Accuracy = 0.988\n",
      "Validation Accuracy = 0.933\n",
      "\n",
      "EPOCH 10 ...\n",
      "Training Accuracy = 0.990\n",
      "Validation Accuracy = 0.941\n",
      "\n",
      "EPOCH 11 ...\n",
      "Training Accuracy = 0.991\n",
      "Validation Accuracy = 0.945\n",
      "\n",
      "EPOCH 12 ...\n",
      "Training Accuracy = 0.986\n",
      "Validation Accuracy = 0.929\n",
      "\n",
      "EPOCH 13 ...\n",
      "Training Accuracy = 0.993\n",
      "Validation Accuracy = 0.936\n",
      "\n",
      "EPOCH 14 ...\n",
      "Training Accuracy = 0.993\n",
      "Validation Accuracy = 0.942\n",
      "\n",
      "EPOCH 15 ...\n",
      "Training Accuracy = 0.993\n",
      "Validation Accuracy = 0.941\n",
      "\n",
      "EPOCH 16 ...\n",
      "Training Accuracy = 0.992\n",
      "Validation Accuracy = 0.940\n",
      "\n",
      "EPOCH 17 ...\n",
      "Training Accuracy = 0.992\n",
      "Validation Accuracy = 0.941\n",
      "\n",
      "EPOCH 18 ...\n",
      "Training Accuracy = 0.994\n",
      "Validation Accuracy = 0.946\n",
      "\n",
      "EPOCH 19 ...\n",
      "Training Accuracy = 0.993\n",
      "Validation Accuracy = 0.947\n",
      "\n",
      "EPOCH 20 ...\n",
      "Training Accuracy = 0.994\n",
      "Validation Accuracy = 0.946\n",
      "\n",
      "EPOCH 21 ...\n",
      "Training Accuracy = 0.992\n",
      "Validation Accuracy = 0.943\n",
      "\n",
      "EPOCH 22 ...\n",
      "Training Accuracy = 0.994\n",
      "Validation Accuracy = 0.945\n",
      "\n",
      "EPOCH 23 ...\n",
      "Training Accuracy = 0.995\n",
      "Validation Accuracy = 0.951\n",
      "\n",
      "EPOCH 24 ...\n",
      "Training Accuracy = 0.997\n",
      "Validation Accuracy = 0.958\n",
      "\n",
      "EPOCH 25 ...\n",
      "Training Accuracy = 0.997\n",
      "Validation Accuracy = 0.955\n",
      "\n",
      "EPOCH 26 ...\n",
      "Training Accuracy = 0.997\n",
      "Validation Accuracy = 0.957\n",
      "\n",
      "EPOCH 27 ...\n",
      "Training Accuracy = 0.995\n",
      "Validation Accuracy = 0.942\n",
      "\n",
      "EPOCH 28 ...\n",
      "Training Accuracy = 0.995\n",
      "Validation Accuracy = 0.959\n",
      "\n",
      "EPOCH 29 ...\n",
      "Training Accuracy = 0.996\n",
      "Validation Accuracy = 0.951\n",
      "\n",
      "EPOCH 30 ...\n",
      "Training Accuracy = 0.996\n",
      "Validation Accuracy = 0.954\n",
      "\n",
      "EPOCH 31 ...\n",
      "Training Accuracy = 0.995\n",
      "Validation Accuracy = 0.961\n",
      "\n",
      "EPOCH 32 ...\n",
      "Training Accuracy = 0.994\n",
      "Validation Accuracy = 0.951\n",
      "\n",
      "EPOCH 33 ...\n",
      "Training Accuracy = 0.993\n",
      "Validation Accuracy = 0.941\n",
      "\n",
      "EPOCH 34 ...\n",
      "Training Accuracy = 0.996\n",
      "Validation Accuracy = 0.953\n",
      "\n",
      "EPOCH 35 ...\n",
      "Training Accuracy = 0.996\n",
      "Validation Accuracy = 0.947\n",
      "\n",
      "EPOCH 36 ...\n",
      "Training Accuracy = 0.997\n",
      "Validation Accuracy = 0.946\n",
      "\n",
      "EPOCH 37 ...\n",
      "Training Accuracy = 0.996\n",
      "Validation Accuracy = 0.958\n",
      "\n",
      "EPOCH 38 ...\n",
      "Training Accuracy = 0.997\n",
      "Validation Accuracy = 0.953\n",
      "\n",
      "EPOCH 39 ...\n",
      "Training Accuracy = 0.996\n",
      "Validation Accuracy = 0.943\n",
      "\n",
      "EPOCH 40 ...\n",
      "Training Accuracy = 0.995\n",
      "Validation Accuracy = 0.938\n",
      "\n",
      "EPOCH 41 ...\n",
      "Training Accuracy = 0.996\n",
      "Validation Accuracy = 0.950\n",
      "\n",
      "EPOCH 42 ...\n",
      "Training Accuracy = 0.997\n",
      "Validation Accuracy = 0.964\n",
      "\n",
      "EPOCH 43 ...\n",
      "Training Accuracy = 0.996\n",
      "Validation Accuracy = 0.950\n",
      "\n",
      "EPOCH 44 ...\n",
      "Training Accuracy = 0.996\n",
      "Validation Accuracy = 0.961\n",
      "\n",
      "EPOCH 45 ...\n",
      "Training Accuracy = 0.996\n",
      "Validation Accuracy = 0.953\n",
      "\n",
      "EPOCH 46 ...\n",
      "Training Accuracy = 0.997\n",
      "Validation Accuracy = 0.951\n",
      "\n",
      "EPOCH 47 ...\n",
      "Training Accuracy = 0.996\n",
      "Validation Accuracy = 0.957\n",
      "\n",
      "EPOCH 48 ...\n",
      "Training Accuracy = 0.997\n",
      "Validation Accuracy = 0.961\n",
      "\n",
      "EPOCH 49 ...\n",
      "Training Accuracy = 0.996\n",
      "Validation Accuracy = 0.966\n",
      "\n",
      "EPOCH 50 ...\n",
      "Training Accuracy = 0.997\n",
      "Validation Accuracy = 0.959\n",
      "\n",
      "EPOCH 51 ...\n",
      "Training Accuracy = 0.995\n",
      "Validation Accuracy = 0.956\n",
      "\n",
      "EPOCH 52 ...\n",
      "Training Accuracy = 0.997\n",
      "Validation Accuracy = 0.963\n",
      "\n",
      "EPOCH 53 ...\n",
      "Training Accuracy = 0.996\n",
      "Validation Accuracy = 0.949\n",
      "\n",
      "EPOCH 54 ...\n",
      "Training Accuracy = 0.998\n",
      "Validation Accuracy = 0.961\n",
      "\n",
      "EPOCH 55 ...\n",
      "Training Accuracy = 0.996\n",
      "Validation Accuracy = 0.957\n",
      "\n",
      "EPOCH 56 ...\n",
      "Training Accuracy = 0.998\n",
      "Validation Accuracy = 0.964\n",
      "\n",
      "EPOCH 57 ...\n",
      "Training Accuracy = 0.996\n",
      "Validation Accuracy = 0.959\n",
      "\n",
      "EPOCH 58 ...\n",
      "Training Accuracy = 0.997\n",
      "Validation Accuracy = 0.961\n",
      "\n",
      "EPOCH 59 ...\n",
      "Training Accuracy = 0.996\n",
      "Validation Accuracy = 0.958\n",
      "\n",
      "EPOCH 60 ...\n",
      "Training Accuracy = 0.997\n",
      "Validation Accuracy = 0.966\n",
      "\n",
      "EPOCH 61 ...\n",
      "Training Accuracy = 0.998\n",
      "Validation Accuracy = 0.961\n",
      "\n",
      "EPOCH 62 ...\n",
      "Training Accuracy = 0.997\n",
      "Validation Accuracy = 0.960\n",
      "\n",
      "EPOCH 63 ...\n",
      "Training Accuracy = 0.997\n",
      "Validation Accuracy = 0.964\n",
      "\n",
      "EPOCH 64 ...\n",
      "Training Accuracy = 0.998\n",
      "Validation Accuracy = 0.964\n",
      "\n",
      "EPOCH 65 ...\n",
      "Training Accuracy = 0.996\n",
      "Validation Accuracy = 0.954\n",
      "\n",
      "EPOCH 66 ...\n",
      "Training Accuracy = 0.996\n",
      "Validation Accuracy = 0.950\n",
      "\n",
      "EPOCH 67 ...\n",
      "Training Accuracy = 0.997\n",
      "Validation Accuracy = 0.951\n",
      "\n",
      "EPOCH 68 ...\n",
      "Training Accuracy = 0.997\n",
      "Validation Accuracy = 0.958\n",
      "\n",
      "EPOCH 69 ...\n",
      "Training Accuracy = 0.996\n",
      "Validation Accuracy = 0.953\n",
      "\n",
      "EPOCH 70 ...\n",
      "Training Accuracy = 0.998\n",
      "Validation Accuracy = 0.966\n",
      "\n",
      "EPOCH 71 ...\n",
      "Training Accuracy = 0.997\n",
      "Validation Accuracy = 0.964\n",
      "\n",
      "EPOCH 72 ...\n",
      "Training Accuracy = 0.998\n",
      "Validation Accuracy = 0.958\n",
      "\n",
      "EPOCH 73 ...\n",
      "Training Accuracy = 0.997\n",
      "Validation Accuracy = 0.965\n",
      "\n",
      "EPOCH 74 ...\n",
      "Training Accuracy = 0.998\n",
      "Validation Accuracy = 0.964\n",
      "\n",
      "EPOCH 75 ...\n",
      "Training Accuracy = 0.995\n",
      "Validation Accuracy = 0.954\n",
      "\n",
      "EPOCH 76 ...\n",
      "Training Accuracy = 0.996\n",
      "Validation Accuracy = 0.958\n",
      "\n",
      "EPOCH 77 ...\n",
      "Training Accuracy = 0.998\n",
      "Validation Accuracy = 0.961\n",
      "\n",
      "EPOCH 78 ...\n",
      "Training Accuracy = 0.998\n",
      "Validation Accuracy = 0.958\n",
      "\n",
      "EPOCH 79 ...\n",
      "Training Accuracy = 0.998\n",
      "Validation Accuracy = 0.952\n",
      "\n",
      "EPOCH 80 ...\n",
      "Training Accuracy = 0.997\n",
      "Validation Accuracy = 0.957\n",
      "\n",
      "EPOCH 81 ...\n",
      "Training Accuracy = 0.998\n",
      "Validation Accuracy = 0.956\n",
      "\n",
      "EPOCH 82 ...\n",
      "Training Accuracy = 0.997\n",
      "Validation Accuracy = 0.957\n",
      "\n",
      "EPOCH 83 ...\n",
      "Training Accuracy = 0.998\n",
      "Validation Accuracy = 0.963\n",
      "\n",
      "EPOCH 84 ...\n",
      "Training Accuracy = 0.998\n",
      "Validation Accuracy = 0.962\n",
      "\n",
      "EPOCH 85 ...\n",
      "Training Accuracy = 0.998\n",
      "Validation Accuracy = 0.960\n",
      "\n",
      "EPOCH 86 ...\n",
      "Training Accuracy = 0.998\n",
      "Validation Accuracy = 0.962\n",
      "\n",
      "EPOCH 87 ...\n",
      "Training Accuracy = 0.997\n",
      "Validation Accuracy = 0.960\n",
      "\n",
      "EPOCH 88 ...\n",
      "Training Accuracy = 0.997\n",
      "Validation Accuracy = 0.954\n",
      "\n",
      "EPOCH 89 ...\n",
      "Training Accuracy = 0.997\n",
      "Validation Accuracy = 0.961\n",
      "\n",
      "EPOCH 90 ...\n",
      "Training Accuracy = 0.997\n",
      "Validation Accuracy = 0.958\n",
      "\n",
      "EPOCH 91 ...\n",
      "Training Accuracy = 0.998\n",
      "Validation Accuracy = 0.956\n",
      "\n",
      "EPOCH 92 ...\n",
      "Training Accuracy = 0.997\n",
      "Validation Accuracy = 0.960\n",
      "\n",
      "EPOCH 93 ...\n",
      "Training Accuracy = 0.996\n",
      "Validation Accuracy = 0.960\n",
      "\n",
      "EPOCH 94 ...\n",
      "Training Accuracy = 0.996\n",
      "Validation Accuracy = 0.953\n",
      "\n",
      "EPOCH 95 ...\n",
      "Training Accuracy = 0.999\n",
      "Validation Accuracy = 0.968\n",
      "\n",
      "EPOCH 96 ...\n",
      "Training Accuracy = 0.998\n",
      "Validation Accuracy = 0.959\n",
      "\n",
      "EPOCH 97 ...\n",
      "Training Accuracy = 0.996\n",
      "Validation Accuracy = 0.966\n",
      "\n",
      "EPOCH 98 ...\n",
      "Training Accuracy = 0.998\n",
      "Validation Accuracy = 0.965\n",
      "\n",
      "EPOCH 99 ...\n",
      "Training Accuracy = 0.998\n",
      "Validation Accuracy = 0.964\n",
      "\n",
      "EPOCH 100 ...\n",
      "Training Accuracy = 0.998\n",
      "Validation Accuracy = 0.960\n",
      "\n",
      "Model saved\n"
     ]
    }
   ],
   "source": [
    "# Training \n",
    "with tf.Session() as sess:\n",
    "    sess.run(tf.global_variables_initializer())\n",
    "    num_examples = len(X_train)\n",
    "    \n",
    "    print(\"Training...\")\n",
    "    print()\n",
    "    for i in range(EPOCHS):\n",
    "        X_train, y_train = shuffle(X_train, y_train)\n",
    "        for offset in range(0, num_examples, BATCH_SIZE):\n",
    "            end = offset + BATCH_SIZE\n",
    "            batch_x, batch_y = X_train[offset:end], y_train[offset:end]\n",
    "            sess.run(training_operation, feed_dict={x: batch_x, y: batch_y})\n",
    "        training_accuracy = evaluate(X_train, y_train)    \n",
    "        validation_accuracy = evaluate(X_valid, y_valid)\n",
    "        print(\"EPOCH {} ...\".format(i+1))\n",
    "        print(\"Training Accuracy = {:.3f}\".format(training_accuracy))\n",
    "        print(\"Validation Accuracy = {:.3f}\".format(validation_accuracy))\n",
    "        print()\n",
    "    saver.save(sess, './p2')\n",
    "    print(\"Model saved\")\n",
    "    "
   ]
  },
  {
   "cell_type": "code",
   "execution_count": 37,
   "metadata": {
    "collapsed": false,
    "deletable": true,
    "editable": true
   },
   "outputs": [
    {
     "name": "stdout",
     "output_type": "stream",
     "text": [
      "Test Accuracy = 0.941\n"
     ]
    }
   ],
   "source": [
    "#Testing\n",
    "with tf.Session() as sess:\n",
    "    saver.restore(sess, './p2')\n",
    "    test_accuracy = evaluate(X_test, y_test)\n",
    "    print(\"Test Accuracy = {:.3f}\".format(test_accuracy))"
   ]
  },
  {
   "cell_type": "markdown",
   "metadata": {
    "deletable": true,
    "editable": true
   },
   "source": [
    "---\n",
    "\n",
    "## Step 3: Test a Model on New Images\n",
    "\n",
    "To give yourself more insight into how your model is working, download at least five pictures of German traffic signs from the web and use your model to predict the traffic sign type.\n",
    "\n",
    "You may find `signnames.csv` useful as it contains mappings from the class id (integer) to the actual sign name."
   ]
  },
  {
   "cell_type": "markdown",
   "metadata": {
    "deletable": true,
    "editable": true
   },
   "source": [
    "### Load and Output the Images"
   ]
  },
  {
   "cell_type": "code",
   "execution_count": 42,
   "metadata": {
    "collapsed": false,
    "deletable": true,
    "editable": true
   },
   "outputs": [
    {
     "data": {
      "image/png": "[encoded data removed]",
      "text/plain": [
       "<matplotlib.figure.Figure at 0x7f9a17790550>"
      ]
     },
     "metadata": {},
     "output_type": "display_data"
    },
    {
     "data": {
      "image/png": "[encoded data removed]",
      "text/plain": [
       "<matplotlib.figure.Figure at 0x7f9a18d64390>"
      ]
     },
     "metadata": {},
     "output_type": "display_data"
    },
    {
     "data": {
      "image/png": "[encoded data removed]",
      "text/plain": [
       "<matplotlib.figure.Figure at 0x7f9a18e366a0>"
      ]
     },
     "metadata": {},
     "output_type": "display_data"
    },
    {
     "data": {
      "image/png": "[encoded data removed]",
      "text/plain": [
       "<matplotlib.figure.Figure at 0x7f9a18e9a8d0>"
      ]
     },
     "metadata": {},
     "output_type": "display_data"
    },
    {
     "data": {
      "image/png": "[encoded data removed]",
      "text/plain": [
       "<matplotlib.figure.Figure at 0x7f9a18a62da0>"
      ]
     },
     "metadata": {},
     "output_type": "display_data"
    }
   ],
   "source": [
    "\n",
    "# Load image directly as Grayscale, preprocess images in the same way \n",
    "\n",
    "n_images = 5\n",
    "img = np.empty([n_images,32,32,1])\n",
    "file_list = ['examples/Einbahnstrasse.jpg', 'examples/stop.jpg', 'examples/vorfahrt.jpg', 'examples/Do-Not-Enter.jpg', 'examples/vorfahrt-kreuzung.jpg']\n",
    "for i in range(0,5):\n",
    "    img_ = cv2.imread(file_list[i],0)  # Directly read as grayscale\n",
    "    img[i,:,:,0] = cv2.resize(img_,(32,32),interpolation=cv2.INTER_CUBIC)\n",
    "    img[i,:,:,0] = cv2.normalize(img[i,:,:,0],img[i,:,:,0],alpha = -1, beta = 1, norm_type=cv2.NORM_MINMAX, dtype=cv2.CV_32F)\n",
    "    plt.figure(figsize=(1,1))\n",
    "    plt.imshow(img[i,:,:,0], cmap='gray')\n",
    "    plt.show()\n"
   ]
  },
  {
   "cell_type": "markdown",
   "metadata": {
    "deletable": true,
    "editable": true
   },
   "source": [
    "### Predict the Sign Type for Each Image"
   ]
  },
  {
   "cell_type": "code",
   "execution_count": 43,
   "metadata": {
    "collapsed": false,
    "deletable": true,
    "editable": true
   },
   "outputs": [
    {
     "name": "stdout",
     "output_type": "stream",
     "text": [
      "Model restored with latest weights...\n",
      "Probabilities predicted...\n",
      "TopKV2(values=array([[  6.99973702e-01,   9.78484899e-02,   6.19165599e-02,\n",
      "          5.32946810e-02,   3.54381129e-02],\n",
      "       [  8.55183601e-01,   1.42671794e-01,   1.46417995e-03,\n",
      "          6.53233437e-04,   1.57420400e-05],\n",
      "       [  1.00000000e+00,   1.08678494e-18,   1.55448421e-21,\n",
      "          5.04860050e-28,   2.12354435e-29],\n",
      "       [  1.00000000e+00,   3.36286638e-18,   7.41684953e-21,\n",
      "          2.77084632e-24,   5.85570612e-25],\n",
      "       [  1.00000000e+00,   8.74253915e-24,   4.29010717e-27,\n",
      "          1.14519538e-28,   9.81984373e-29]], dtype=float32), indices=array([[14,  1, 38, 26, 34],\n",
      "       [14,  1,  8,  0,  3],\n",
      "       [12, 35, 40, 15, 13],\n",
      "       [17, 23, 37, 26, 25],\n",
      "       [11, 30, 28, 12, 21]], dtype=int32))\n"
     ]
    }
   ],
   "source": [
    "logits = LeNet(x) \n",
    "prediction = tf.nn.softmax(logits)\n",
    "top5 = tf.nn.top_k(prediction, k=5)\n",
    "\n",
    "with tf.Session() as sess:\n",
    "    # Load weights\n",
    "    saver.restore(sess, './p2')\n",
    "    print('Model restored with latest weights...')    \n",
    "    top5_probability = sess.run(top5, feed_dict={x: img}) \n",
    "    print('Probabilities predicted...')  \n",
    "    \n",
    "print(top5_probability)\n",
    "\n",
    "\n",
    "    "
   ]
  },
  {
   "cell_type": "markdown",
   "metadata": {
    "deletable": true,
    "editable": true
   },
   "source": [
    "### Analyze Performance"
   ]
  },
  {
   "cell_type": "code",
   "execution_count": 45,
   "metadata": {
    "collapsed": false,
    "deletable": true,
    "editable": true
   },
   "outputs": [
    {
     "name": "stdout",
     "output_type": "stream",
     "text": [
      "Predicted for image 0: Stop\n"
     ]
    },
    {
     "data": {
      "image/png": "[encoded data removed]",
      "text/plain": [
       "<matplotlib.figure.Figure at 0x7f9a18e05978>"
      ]
     },
     "metadata": {},
     "output_type": "display_data"
    },
    {
     "name": "stdout",
     "output_type": "stream",
     "text": [
      "####################################################################################################\n",
      "Predicted for image 1: Stop\n"
     ]
    },
    {
     "data": {
      "image/png": "[encoded data removed]",
      "text/plain": [
       "<matplotlib.figure.Figure at 0x7f9a18e2c278>"
      ]
     },
     "metadata": {},
     "output_type": "display_data"
    },
    {
     "name": "stdout",
     "output_type": "stream",
     "text": [
      "####################################################################################################\n",
      "Predicted for image 2: Priority road\n"
     ]
    },
    {
     "data": {
      "image/png": "[encoded data removed]",
      "text/plain": [
       "<matplotlib.figure.Figure at 0x7f9a175234a8>"
      ]
     },
     "metadata": {},
     "output_type": "display_data"
    },
    {
     "name": "stdout",
     "output_type": "stream",
     "text": [
      "####################################################################################################\n",
      "Predicted for image 3: No entry\n"
     ]
    },
    {
     "data": {
      "image/png": "[encoded data removed]",
      "text/plain": [
       "<matplotlib.figure.Figure at 0x7f9a18ba5b70>"
      ]
     },
     "metadata": {},
     "output_type": "display_data"
    },
    {
     "name": "stdout",
     "output_type": "stream",
     "text": [
      "####################################################################################################\n",
      "Predicted for image 4: Right-of-way at the next intersection\n"
     ]
    },
    {
     "data": {
      "image/png": "[encoded data removed]",
      "text/plain": [
       "<matplotlib.figure.Figure at 0x7f9a189068d0>"
      ]
     },
     "metadata": {},
     "output_type": "display_data"
    },
    {
     "name": "stdout",
     "output_type": "stream",
     "text": [
      "####################################################################################################\n"
     ]
    }
   ],
   "source": [
    "### Calculate the accuracy for these 5 new images. \n",
    "### For example, if the model predicted 1 out of 5 signs correctly, it's 20% accurate on these new images.\n",
    "for i in range(0,5):\n",
    "    print(\"Predicted for image \" + str(i) + \": \" + sign_explanation[top5_probability[1][i,0]])\n",
    "    plt.figure(figsize=(10,10))\n",
    "    plt.subplot(121)\n",
    "    plt.imshow(img[i,:,:,0],cmap='gray')\n",
    "  \n",
    "    plt.subplot(122)\n",
    "    x_axis = range(0,5) \n",
    "    labels = [sign_explanation[top5_probability[1][i,j]] for j in x_axis]\n",
    "    plt.bar(x_axis,top5_probability[0][i])\n",
    "    plt.xticks(x_axis, labels,  rotation=90)\n",
    "    plt.show()\n",
    "    print(100*\"#\")\n"
   ]
  },
  {
   "cell_type": "markdown",
   "metadata": {
    "deletable": true,
    "editable": true
   },
   "source": [
    "### Output Top 5 Softmax Probabilities For Each Image Found on the Web"
   ]
  },
  {
   "cell_type": "markdown",
   "metadata": {
    "deletable": true,
    "editable": true
   },
   "source": [
    "For each of the new images, print out the model's softmax probabilities to show the **certainty** of the model's predictions (limit the output to the top 5 probabilities for each image). [`tf.nn.top_k`](https://www.tensorflow.org/versions/r0.12/api_docs/python/nn.html#top_k) could prove helpful here. \n",
    "\n",
    "The example below demonstrates how tf.nn.top_k can be used to find the top k predictions for each image.\n",
    "\n",
    "`tf.nn.top_k` will return the values and indices (class ids) of the top k predictions. So if k=3, for each sign, it'll return the 3 largest probabilities (out of a possible 43) and the correspoding class ids.\n",
    "\n",
    "Take this numpy array as an example. The values in the array represent predictions. The array contains softmax probabilities for five candidate images with six possible classes. `tk.nn.top_k` is used to choose the three classes with the highest probability:\n",
    "\n",
    "```\n",
    "# (5, 6) array\n",
    "a = np.array([[ 0.24879643,  0.07032244,  0.12641572,  0.34763842,  0.07893497,\n",
    "         0.12789202],\n",
    "       [ 0.28086119,  0.27569815,  0.08594638,  0.0178669 ,  0.18063401,\n",
    "         0.15899337],\n",
    "       [ 0.26076848,  0.23664738,  0.08020603,  0.07001922,  0.1134371 ,\n",
    "         0.23892179],\n",
    "       [ 0.11943333,  0.29198961,  0.02605103,  0.26234032,  0.1351348 ,\n",
    "         0.16505091],\n",
    "       [ 0.09561176,  0.34396535,  0.0643941 ,  0.16240774,  0.24206137,\n",
    "         0.09155967]])\n",
    "```\n",
    "\n",
    "Running it through `sess.run(tf.nn.top_k(tf.constant(a), k=3))` produces:\n",
    "\n",
    "```\n",
    "TopKV2(values=array([[ 0.34763842,  0.24879643,  0.12789202],\n",
    "       [ 0.28086119,  0.27569815,  0.18063401],\n",
    "       [ 0.26076848,  0.23892179,  0.23664738],\n",
    "       [ 0.29198961,  0.26234032,  0.16505091],\n",
    "       [ 0.34396535,  0.24206137,  0.16240774]]), indices=array([[3, 0, 5],\n",
    "       [0, 1, 4],\n",
    "       [0, 5, 1],\n",
    "       [1, 3, 5],\n",
    "       [1, 4, 3]], dtype=int32))\n",
    "```\n",
    "\n",
    "Looking just at the first row we get `[ 0.34763842,  0.24879643,  0.12789202]`, you can confirm these are the 3 largest probabilities in `a`. You'll also notice `[3, 0, 5]` are the corresponding indices."
   ]
  },
  {
   "cell_type": "markdown",
   "metadata": {
    "deletable": true,
    "editable": true
   },
   "source": [
    "> **Note**: Once you have completed all of the code implementations, you need to finalize your work by exporting the IPython Notebook as an HTML document. Before exporting the notebook to html, all of the code cells need to have been run. You can then export the notebook by using the menu above and navigating to  \\n\",\n",
    "    \"**File -> Download as -> HTML (.html)**. Include the finished document along with this notebook as your submission. "
   ]
  },
  {
   "cell_type": "markdown",
   "metadata": {
    "deletable": true,
    "editable": true
   },
   "source": [
    "### Project Writeup\n",
    "\n",
    "Once you have completed the code implementation, document your results in a project writeup using this [template](https://github.com/udacity/CarND-Traffic-Sign-Classifier-Project/blob/master/writeup_template.md) as a guide. The writeup can be in a markdown or pdf file. "
   ]
  }
 ],
 "metadata": {
  "anaconda-cloud": {},
  "kernelspec": {
   "display_name": "Python 3",
   "language": "python",
   "name": "python3"
  },
  "language_info": {
   "codemirror_mode": {
    "name": "ipython",
    "version": 3
   },
   "file_extension": ".py",
   "mimetype": "text/x-python",
   "name": "python",
   "nbconvert_exporter": "python",
   "pygments_lexer": "ipython3",
   "version": "3.5.2"
  },
  "widgets": {
   "state": {},
   "version": "1.1.2"
  }
 },
 "nbformat": 4,
 "nbformat_minor": 1
}
